{
 "cells": [
  {
   "cell_type": "code",
   "execution_count": null,
   "metadata": {},
   "outputs": [],
   "source": [
    "# default_exp core.data"
   ]
  },
  {
   "cell_type": "code",
   "execution_count": null,
   "metadata": {},
   "outputs": [],
   "source": [
    "#hide\n",
    "from nbdev.showdoc import *"
   ]
  },
  {
   "cell_type": "code",
   "execution_count": null,
   "metadata": {},
   "outputs": [],
   "source": []
  },
  {
   "cell_type": "code",
   "execution_count": null,
   "metadata": {},
   "outputs": [],
   "source": []
  },
  {
   "cell_type": "markdown",
   "metadata": {},
   "source": [
    "\n",
    "# Sneaker Finder \n",
    "\n",
    "## Features module - \"core.data\"\n",
    "\n",
    "\n",
    "# OVERVIEW\n",
    "\n",
    "This is a project initiated while an Insight Data Science fellow.  It grew out of my interest in making data driven tools in the fashion/retail space I had most recently been working.   The original over-scoped idea was to make a shoe desighn tool which could quickly develop some initial sneakers based on choosing some examples, and some text descriptors.  Designs are constrained by the \"latent space\" defined (discovered?) by a database of shoe images.  However, given the 3 week sprint allowed for development, I pared the tool down to a simple \"aesthetic\" recommender for sneakers, using the same idea of utilizing an embedding space defined by the database fo shoe images.\n",
    "\n",
    "\n",
    "Feature extractor: \n",
    "    1. embed database into feature space.\n",
    "    2. evaluate/validate by simple logistic regression on classification.\n",
    "\n",
    "\n",
    "\n",
    "## A: load databases / imagefile names to dataframes\n",
    "\n",
    "## B: organize imagefiles into folders according to meta-data (category/source)\n",
    "\n",
    "\n",
    "## C: splitters ... e.g. train, valid, test\n"
   ]
  },
  {
   "cell_type": "code",
   "execution_count": null,
   "metadata": {},
   "outputs": [],
   "source": [
    "#hide\n",
    "from fastbook import *\n",
    "from fastai.vision.all import *\n",
    "\n",
    "\n",
    "config = Config()"
   ]
  },
  {
   "cell_type": "code",
   "execution_count": null,
   "metadata": {},
   "outputs": [],
   "source": [
    "# this should go into a utils or cfg module\n",
    "\n",
    "\n",
    "#DATA_path = Path.home()/'Projects/DATABASE'\n",
    "path_images = Path(config.d['data_path']+'/ut-zap50k-images')\n",
    "\n",
    "IMG_SIZE_MD = 160\n",
    "IMG_SIZE = IMG_SIZE_MD\n",
    "\n",
    "ZAPPOS_DF_SIMPLIFIED = \"zappos-50k-simplified_sort\"\n",
    "\n",
    "ZAPPOS_FEATS_ALL = \"zappos-50k-mobilenetv2-features_\"\n",
    "ZAPPOS_FEATS_ALL_SORT = \"zappos-50k-mobilenetv2-features_sort_3\"\n",
    "\n",
    "ZAPPOS_FEATS_MD = f\"mobilenetv2-features_medium\"\n"
   ]
  },
  {
   "cell_type": "markdown",
   "metadata": {},
   "source": [
    "# Do Train Test Splits\n"
   ]
  },
  {
   "cell_type": "code",
   "execution_count": null,
   "metadata": {},
   "outputs": [],
   "source": [
    "import os\n",
    "from glob import iglob\n",
    "from os.path import join,basename\n",
    "import shutil\n",
    "import random\n",
    "\n",
    "# UPDATE - JAH, put all data into DATABASE \n",
    "\n",
    "data_path = './sneaks/data/' # path of the data\n",
    "train_path = './train'\n",
    "test_path = './test'\n",
    "ldata_path = './data'\n",
    "val_path = './validate'\n",
    "\n",
    "df.loc[:,'train'] = 1\n",
    "df.loc[:,'test'] = 0 \n",
    "df.loc[:,'validate'] = 0 \n"
   ]
  },
  {
   "cell_type": "code",
   "execution_count": null,
   "metadata": {},
   "outputs": [
    {
     "data": {
      "text/plain": [
       "0     [Shoes, Oxfords, Bostonian, 100627.72.jpg]\n",
       "1    [Shoes, Oxfords, Bostonian, 100627.255.jpg]\n",
       "2     [Shoes, Oxfords, Bostonian, 100657.72.jpg]\n",
       "3    [Shoes, Oxfords, Bostonian, 100657.216.jpg]\n",
       "4       [Boots, Mid-Calf, Durango, 101026.3.jpg]\n",
       "Name: path_and_file, dtype: object"
      ]
     },
     "execution_count": null,
     "metadata": {},
     "output_type": "execute_result"
    }
   ],
   "source": [
    "## cat = df['path_and_file']\n",
    "\n",
    "df.path_and_file.head(5)"
   ]
  },
  {
   "cell_type": "code",
   "execution_count": null,
   "metadata": {},
   "outputs": [],
   "source": [
    "#for file in iglob(join(data_path,'*')):\n",
    "#for file( in iglob(join(train_path,'*')):\n"
   ]
  },
  {
   "cell_type": "code",
   "execution_count": null,
   "metadata": {},
   "outputs": [],
   "source": [
    "if not os.path.exists(ldata_path):\n",
    "\n",
    "\n",
    "    # create full set\n",
    "    print('_'*30)\n",
    "    print('Creating full local category set....')\n",
    "    print('_'*30)\n",
    "\n",
    "\n",
    "    for idx in df.index:\n",
    "        save_path = join(ldata_path,df.loc[idx,'CategoryDir'])\n",
    "\n",
    "        #print(save_path)\n",
    "        if not os.path.exists(save_path):\n",
    "            os.makedirs(save_path)\n",
    "        img =  join(data_path,df.loc[idx,'path'])\n",
    "        #print(img)\n",
    "        shutil.copy2(img,save_path)\n",
    "                 "
   ]
  },
  {
   "cell_type": "code",
   "execution_count": null,
   "metadata": {},
   "outputs": [],
   "source": []
  },
  {
   "cell_type": "code",
   "execution_count": null,
   "metadata": {},
   "outputs": [
    {
     "name": "stdout",
     "output_type": "stream",
     "text": [
      "______________________________\n",
      "Creating full train set....\n",
      "______________________________\n"
     ]
    }
   ],
   "source": [
    "# create test set\n",
    "print('_'*30)\n",
    "print('Creating full train set....')\n",
    "print('_'*30)\n",
    "\n",
    "for idx in df.index:\n",
    "    save_path = join(train_path,df.loc[idx,'CategoryDir'])\n",
    "    #print(save_path)\n",
    "    if not os.path.exists(save_path):\n",
    "        os.makedirs(save_path)\n",
    "    img =  join(data_path,df.loc[idx,'path'])\n",
    "    #print(img)\n",
    "    shutil.copy2(img,save_path)\n",
    "            "
   ]
  },
  {
   "cell_type": "code",
   "execution_count": null,
   "metadata": {},
   "outputs": [
    {
     "name": "stdout",
     "output_type": "stream",
     "text": [
      "______________________________\n",
      "Creating test set....\n",
      "______________________________\n",
      "2264.16\n",
      "3469.68\n",
      "2492.88\n"
     ]
    }
   ],
   "source": [
    "# create test set\n",
    "print('_'*30)\n",
    "print('Creating test set....')\n",
    "print('_'*30)\n",
    "\n",
    "#instead of looking at the files, lets just use the database\n",
    "\n",
    "for file in iglob(join(train_path,'*')):\n",
    "#for file in df.path:\n",
    "    save_path = join(test_path, basename(file))\n",
    "\n",
    "    if not os.path.exists(save_path):\n",
    "        os.makedirs(save_path)\n",
    "    \n",
    "    total_imgs = [x for x in iglob(join(file,'*'))]\n",
    "\n",
    "    rand_amt = 2* 0.12 * len(total_imgs)  # select 24% of data from each category as testing + validation set\n",
    "    print(rand_amt)\n",
    "    test_imgs= []\n",
    "    for i in range(int(rand_amt)):\n",
    "        img = random.choice(total_imgs)\n",
    "        if img not in test_imgs:\n",
    "            #print(img)\n",
    "            df.loc[df.Filename == basename(img),'train'] = 0\n",
    "            df.loc[df.Filename == basename(img),'test'] = 1\n",
    "            shutil.move(img,save_path)\n",
    "            test_imgs.append(img)\n",
    "        \n",
    "        "
   ]
  },
  {
   "cell_type": "code",
   "execution_count": null,
   "metadata": {},
   "outputs": [
    {
     "name": "stdout",
     "output_type": "stream",
     "text": [
      "______________________________\n",
      "Creating validation set....\n",
      "______________________________\n",
      "1019.0\n",
      "1538.5\n",
      "1101.5\n"
     ]
    }
   ],
   "source": [
    "# create validation set\n",
    "print('_'*30)\n",
    "print('Creating validation set....')\n",
    "print('_'*30)\n",
    "\n",
    "#instead of looking at the files, lets just use the database\n",
    "for file in iglob(join(test_path,'*')):\n",
    "#for file in df.path:\n",
    "    save_path = join(val_path, basename(file))\n",
    "\n",
    "    if not os.path.exists(save_path):\n",
    "        os.makedirs(save_path)\n",
    "    \n",
    "    total_imgs = [x for x in iglob(join(file,'*'))]\n",
    "\n",
    "    rand_amt = 0.5 * len(total_imgs)  # select 50% of data from each category to split evenly between test and validation\n",
    "    print(rand_amt)\n",
    "    test_imgs= []\n",
    "    for i in range(int(rand_amt)):\n",
    "        img = random.choice(total_imgs)\n",
    "        if img not in test_imgs:\n",
    "            #print(img)\n",
    "            df.loc[df.Filename == basename(img),'test'] = 0\n",
    "            df.loc[df.Filename == basename(img),'validation'] = 1\n",
    "            shutil.move(img,save_path)\n",
    "            test_imgs.append(img)\n",
    "        \n",
    "            "
   ]
  },
  {
   "cell_type": "code",
   "execution_count": null,
   "metadata": {},
   "outputs": [],
   "source": [
    "        \n",
    "# # create valisation set\n",
    "# print('_'*30)\n",
    "# print('Creating validation set....')\n",
    "# print('_'*30)\n",
    "      \n",
    "# #instead of looking at the files, lets just use the database\n",
    "# for file in iglob(join(train_path,'*')):\n",
    "#             #for file in df.path:\n",
    "#     save_path = join(val_path, basename(file))\n",
    "\n",
    "#     if not os.path.exists(save_path):\n",
    "#         os.makedirs(save_path)\n",
    "    \n",
    "#     total_imgs = [x for x in iglob(join(file,'*'))]\n",
    "\n",
    "#     rand_amt = 0.12 * len(total_imgs)  # select 12% of data from each category as testing set\n",
    "#     print(rand_amt)\n",
    "\n",
    "        \n",
    "        "
   ]
  },
  {
   "cell_type": "code",
   "execution_count": null,
   "metadata": {},
   "outputs": [],
   "source": [
    "\n",
    "      \n",
    "# save the simple file\n",
    "summary_file ='train_test_val_Feb-06-2020.pkl'\n",
    "df.to_pickle(summary_file)\n",
    "\n",
    "        "
   ]
  },
  {
   "cell_type": "code",
   "execution_count": null,
   "metadata": {},
   "outputs": [],
   "source": [
    "\n",
    "# save the simple file\n",
    "summary_file ='train_test_val_Feb-06-2020.pkl'\n",
    "\n",
    "df.to_pickle(summary_file)\n",
    "\n"
   ]
  },
  {
   "cell_type": "markdown",
   "metadata": {},
   "source": [
    "# simplify data set to only include shoes, sneakers, and boots"
   ]
  },
  {
   "cell_type": "code",
   "execution_count": null,
   "metadata": {},
   "outputs": [
    {
     "data": {
      "text/plain": [
       "4"
      ]
     },
     "execution_count": null,
     "metadata": {},
     "output_type": "execute_result"
    }
   ],
   "source": [
    "sum(df['Gender']=='Men;Boys;Women;Girls')  # ignore "
   ]
  },
  {
   "cell_type": "code",
   "execution_count": null,
   "metadata": {},
   "outputs": [],
   "source": [
    "df.loc[:,'Sneakers'] = df['SubCategory.Sneakers.and.Athletic.Shoes'] == 1\n",
    "df.loc[:,'Boots'] = (df.Category1 == 'Boots')\n",
    "df.loc[:,'Shoes'] = (df.Category1 == 'Shoes') & (~df.Sneakers)#remove \n",
    "############\n",
    "#remove ([ 'Boys',  'Boys;Girls', 'Girls','Women;Girls', 'Men;Boys;Women;Girls', nan\n",
    "mens =  df['Gender'] == 'Men'       \n",
    "womens =  df['Gender'] == 'Women' \n",
    "etc =  df['Gender'] =='Men;Women' \n",
    "df.loc[:, 'Adult'] = mens | womens | etc"
   ]
  },
  {
   "cell_type": "markdown",
   "metadata": {},
   "source": [
    "## split shoes into athletic and \"other\"\n",
    "## remove kids"
   ]
  },
  {
   "cell_type": "code",
   "execution_count": null,
   "metadata": {},
   "outputs": [],
   "source": [
    "# make some expository columns \n",
    "#keep Adult, Sneakers, Boots, Shoes\n",
    "\n",
    "keep_rows = (df.Sneakers | df.Boots | df.Shoes) & (df.Adult)\n",
    "\n",
    "\n",
    "\n",
    "keep_columns = ['CID',\n",
    "                 'Category',\n",
    "                 'SubCategory',\n",
    "                 'Gender',\n",
    "                 'path',\n",
    "                 'Sneakers',\n",
    "                 'Boots',\n",
    "                 'Shoes',\n",
    "                 'path_and_file',\n",
    "                 'Brand',\n",
    "                 'Filename',\n",
    "                 'image_features']\n",
    "\n",
    "\n",
    "df = df.loc[df.index.intersection(keep_rows),:]"
   ]
  },
  {
   "cell_type": "code",
   "execution_count": null,
   "metadata": {},
   "outputs": [],
   "source": [
    "df = df.filter(items=keep_columns)\n",
    "df.tail()"
   ]
  },
  {
   "cell_type": "code",
   "execution_count": null,
   "metadata": {},
   "outputs": [
    {
     "data": {
      "text/html": [
       "<div>\n",
       "<style scoped>\n",
       "    .dataframe tbody tr th:only-of-type {\n",
       "        vertical-align: middle;\n",
       "    }\n",
       "\n",
       "    .dataframe tbody tr th {\n",
       "        vertical-align: top;\n",
       "    }\n",
       "\n",
       "    .dataframe thead th {\n",
       "        text-align: right;\n",
       "    }\n",
       "</style>\n",
       "<table border=\"1\" class=\"dataframe\">\n",
       "  <thead>\n",
       "    <tr style=\"text-align: right;\">\n",
       "      <th></th>\n",
       "      <th>CID</th>\n",
       "      <th>Category</th>\n",
       "      <th>SubCategory</th>\n",
       "      <th>Gender</th>\n",
       "      <th>path</th>\n",
       "      <th>Sneakers</th>\n",
       "      <th>Boots</th>\n",
       "      <th>Shoes</th>\n",
       "      <th>path_and_file</th>\n",
       "      <th>Brand</th>\n",
       "      <th>Filename</th>\n",
       "    </tr>\n",
       "  </thead>\n",
       "  <tbody>\n",
       "    <tr>\n",
       "      <th>15747</th>\n",
       "      <td>7841044-325</td>\n",
       "      <td>Shoes</td>\n",
       "      <td>Loafers</td>\n",
       "      <td>Men</td>\n",
       "      <td>Shoes/Loafers/RJ Colt/7841044.325.jpg</td>\n",
       "      <td>False</td>\n",
       "      <td>False</td>\n",
       "      <td>True</td>\n",
       "      <td>[Shoes, Loafers, RJ Colt, 7841044.325.jpg]</td>\n",
       "      <td>RJ Colt</td>\n",
       "      <td>7841044.325.jpg</td>\n",
       "    </tr>\n",
       "    <tr>\n",
       "      <th>15748</th>\n",
       "      <td>7841047-3</td>\n",
       "      <td>Shoes</td>\n",
       "      <td>Oxfords</td>\n",
       "      <td>Men</td>\n",
       "      <td>Shoes/Oxfords/RJ Colt/7841047.3.jpg</td>\n",
       "      <td>False</td>\n",
       "      <td>False</td>\n",
       "      <td>True</td>\n",
       "      <td>[Shoes, Oxfords, RJ Colt, 7841047.3.jpg]</td>\n",
       "      <td>RJ Colt</td>\n",
       "      <td>7841047.3.jpg</td>\n",
       "    </tr>\n",
       "    <tr>\n",
       "      <th>15749</th>\n",
       "      <td>7841047-6</td>\n",
       "      <td>Shoes</td>\n",
       "      <td>Oxfords</td>\n",
       "      <td>Men</td>\n",
       "      <td>Shoes/Oxfords/RJ Colt/7841047.6.jpg</td>\n",
       "      <td>False</td>\n",
       "      <td>False</td>\n",
       "      <td>True</td>\n",
       "      <td>[Shoes, Oxfords, RJ Colt, 7841047.6.jpg]</td>\n",
       "      <td>RJ Colt</td>\n",
       "      <td>7841047.6.jpg</td>\n",
       "    </tr>\n",
       "    <tr>\n",
       "      <th>15750</th>\n",
       "      <td>7841050-144</td>\n",
       "      <td>Boots</td>\n",
       "      <td>Mid-Calf</td>\n",
       "      <td>Boys;Girls</td>\n",
       "      <td>Boots/Mid-Calf/Old West Kids Boots/7841050.144...</td>\n",
       "      <td>False</td>\n",
       "      <td>True</td>\n",
       "      <td>False</td>\n",
       "      <td>[Boots, Mid-Calf, Old West Kids Boots, 7841050...</td>\n",
       "      <td>Old West Kids Boots</td>\n",
       "      <td>7841050.144.jpg</td>\n",
       "    </tr>\n",
       "    <tr>\n",
       "      <th>15751</th>\n",
       "      <td>7841051-559</td>\n",
       "      <td>Boots</td>\n",
       "      <td>Knee High</td>\n",
       "      <td>Girls</td>\n",
       "      <td>Boots/Knee High/Old West Kids Boots/7841051.55...</td>\n",
       "      <td>False</td>\n",
       "      <td>True</td>\n",
       "      <td>False</td>\n",
       "      <td>[Boots, Knee High, Old West Kids Boots, 784105...</td>\n",
       "      <td>Old West Kids Boots</td>\n",
       "      <td>7841051.559.jpg</td>\n",
       "    </tr>\n",
       "    <tr>\n",
       "      <th>...</th>\n",
       "      <td>...</td>\n",
       "      <td>...</td>\n",
       "      <td>...</td>\n",
       "      <td>...</td>\n",
       "      <td>...</td>\n",
       "      <td>...</td>\n",
       "      <td>...</td>\n",
       "      <td>...</td>\n",
       "      <td>...</td>\n",
       "      <td>...</td>\n",
       "      <td>...</td>\n",
       "    </tr>\n",
       "    <tr>\n",
       "      <th>50020</th>\n",
       "      <td>8168300-128</td>\n",
       "      <td>Shoes</td>\n",
       "      <td>Heels</td>\n",
       "      <td>Women</td>\n",
       "      <td>Shoes/Heels/J. Renee/8168300.128.jpg</td>\n",
       "      <td>False</td>\n",
       "      <td>False</td>\n",
       "      <td>True</td>\n",
       "      <td>[Shoes, Heels, J. Renee, 8168300.128.jpg]</td>\n",
       "      <td>J. Renee</td>\n",
       "      <td>8168300.128.jpg</td>\n",
       "    </tr>\n",
       "    <tr>\n",
       "      <th>50021</th>\n",
       "      <td>8168300-742</td>\n",
       "      <td>Shoes</td>\n",
       "      <td>Heels</td>\n",
       "      <td>Women</td>\n",
       "      <td>Shoes/Heels/J. Renee/8168300.742.jpg</td>\n",
       "      <td>False</td>\n",
       "      <td>False</td>\n",
       "      <td>True</td>\n",
       "      <td>[Shoes, Heels, J. Renee, 8168300.742.jpg]</td>\n",
       "      <td>J. Renee</td>\n",
       "      <td>8168300.742.jpg</td>\n",
       "    </tr>\n",
       "    <tr>\n",
       "      <th>50022</th>\n",
       "      <td>8168300-57113</td>\n",
       "      <td>Shoes</td>\n",
       "      <td>Heels</td>\n",
       "      <td>Women</td>\n",
       "      <td>Shoes/Heels/J. Renee/8168300.57113.jpg</td>\n",
       "      <td>False</td>\n",
       "      <td>False</td>\n",
       "      <td>True</td>\n",
       "      <td>[Shoes, Heels, J. Renee, 8168300.57113.jpg]</td>\n",
       "      <td>J. Renee</td>\n",
       "      <td>8168300.57113.jpg</td>\n",
       "    </tr>\n",
       "    <tr>\n",
       "      <th>50023</th>\n",
       "      <td>8168300-384413</td>\n",
       "      <td>Shoes</td>\n",
       "      <td>Heels</td>\n",
       "      <td>Women</td>\n",
       "      <td>Shoes/Heels/J. Renee/8168300.384413.jpg</td>\n",
       "      <td>False</td>\n",
       "      <td>False</td>\n",
       "      <td>True</td>\n",
       "      <td>[Shoes, Heels, J. Renee, 8168300.384413.jpg]</td>\n",
       "      <td>J. Renee</td>\n",
       "      <td>8168300.384413.jpg</td>\n",
       "    </tr>\n",
       "    <tr>\n",
       "      <th>50024</th>\n",
       "      <td>8169712-2557</td>\n",
       "      <td>Shoes</td>\n",
       "      <td>Sneakers and Athletic Shoes</td>\n",
       "      <td>Men</td>\n",
       "      <td>Shoes/Sneakers and Athletic Shoes/Travis Mathe...</td>\n",
       "      <td>True</td>\n",
       "      <td>False</td>\n",
       "      <td>False</td>\n",
       "      <td>[Shoes, Sneakers and Athletic Shoes, Travis Ma...</td>\n",
       "      <td>Travis Mathew</td>\n",
       "      <td>8169712.2557.jpg</td>\n",
       "    </tr>\n",
       "  </tbody>\n",
       "</table>\n",
       "<p>34278 rows × 11 columns</p>\n",
       "</div>"
      ],
      "text/plain": [
       "                  CID Category                  SubCategory      Gender  \\\n",
       "15747     7841044-325    Shoes                      Loafers         Men   \n",
       "15748       7841047-3    Shoes                      Oxfords         Men   \n",
       "15749       7841047-6    Shoes                      Oxfords         Men   \n",
       "15750     7841050-144    Boots                     Mid-Calf  Boys;Girls   \n",
       "15751     7841051-559    Boots                    Knee High       Girls   \n",
       "...               ...      ...                          ...         ...   \n",
       "50020     8168300-128    Shoes                        Heels       Women   \n",
       "50021     8168300-742    Shoes                        Heels       Women   \n",
       "50022   8168300-57113    Shoes                        Heels       Women   \n",
       "50023  8168300-384413    Shoes                        Heels       Women   \n",
       "50024    8169712-2557    Shoes  Sneakers and Athletic Shoes         Men   \n",
       "\n",
       "                                                    path  Sneakers  Boots  \\\n",
       "15747              Shoes/Loafers/RJ Colt/7841044.325.jpg     False  False   \n",
       "15748                Shoes/Oxfords/RJ Colt/7841047.3.jpg     False  False   \n",
       "15749                Shoes/Oxfords/RJ Colt/7841047.6.jpg     False  False   \n",
       "15750  Boots/Mid-Calf/Old West Kids Boots/7841050.144...     False   True   \n",
       "15751  Boots/Knee High/Old West Kids Boots/7841051.55...     False   True   \n",
       "...                                                  ...       ...    ...   \n",
       "50020               Shoes/Heels/J. Renee/8168300.128.jpg     False  False   \n",
       "50021               Shoes/Heels/J. Renee/8168300.742.jpg     False  False   \n",
       "50022             Shoes/Heels/J. Renee/8168300.57113.jpg     False  False   \n",
       "50023            Shoes/Heels/J. Renee/8168300.384413.jpg     False  False   \n",
       "50024  Shoes/Sneakers and Athletic Shoes/Travis Mathe...      True  False   \n",
       "\n",
       "       Shoes                                      path_and_file  \\\n",
       "15747   True         [Shoes, Loafers, RJ Colt, 7841044.325.jpg]   \n",
       "15748   True           [Shoes, Oxfords, RJ Colt, 7841047.3.jpg]   \n",
       "15749   True           [Shoes, Oxfords, RJ Colt, 7841047.6.jpg]   \n",
       "15750  False  [Boots, Mid-Calf, Old West Kids Boots, 7841050...   \n",
       "15751  False  [Boots, Knee High, Old West Kids Boots, 784105...   \n",
       "...      ...                                                ...   \n",
       "50020   True          [Shoes, Heels, J. Renee, 8168300.128.jpg]   \n",
       "50021   True          [Shoes, Heels, J. Renee, 8168300.742.jpg]   \n",
       "50022   True        [Shoes, Heels, J. Renee, 8168300.57113.jpg]   \n",
       "50023   True       [Shoes, Heels, J. Renee, 8168300.384413.jpg]   \n",
       "50024  False  [Shoes, Sneakers and Athletic Shoes, Travis Ma...   \n",
       "\n",
       "                     Brand            Filename  \n",
       "15747              RJ Colt     7841044.325.jpg  \n",
       "15748              RJ Colt       7841047.3.jpg  \n",
       "15749              RJ Colt       7841047.6.jpg  \n",
       "15750  Old West Kids Boots     7841050.144.jpg  \n",
       "15751  Old West Kids Boots     7841051.559.jpg  \n",
       "...                    ...                 ...  \n",
       "50020             J. Renee     8168300.128.jpg  \n",
       "50021             J. Renee     8168300.742.jpg  \n",
       "50022             J. Renee   8168300.57113.jpg  \n",
       "50023             J. Renee  8168300.384413.jpg  \n",
       "50024        Travis Mathew    8169712.2557.jpg  \n",
       "\n",
       "[34278 rows x 11 columns]"
      ]
     },
     "execution_count": null,
     "metadata": {},
     "output_type": "execute_result"
    }
   ],
   "source": [
    "df\n"
   ]
  },
  {
   "cell_type": "code",
   "execution_count": null,
   "metadata": {},
   "outputs": [],
   "source": [
    "# misnomer... don't actually have features yet...\n",
    "# save the simple file\n",
    "summary_file = f'./categories_with_features_{today:%b-%d-%Y}.pkl'\n",
    "df.to_pickle(summary_file)\n",
    "\n",
    "summary_file = f'./categories_with_features_{today:%b-%d-%Y}.json'\n",
    "df.to_json(summary_file)\n",
    "\n"
   ]
  },
  {
   "cell_type": "code",
   "execution_count": null,
   "metadata": {},
   "outputs": [],
   "source": [
    "# save the simple file\n",
    "summary_file ='train_test_val_Jun-25-2020.pkl'\n",
    "#df.to_pickle(summary_file)\n",
    "\n",
    "json_summary_file ='train_test_val_Jun-25-2020.json'\n",
    "#df.to_json(summary_file)  \n",
    "df2 = pd.read_json(json_summary_file)\n",
    "\n",
    "df = pd.read_json('categories_with_features_Jun-25-2020.json')\n",
    "\n",
    "        "
   ]
  },
  {
   "cell_type": "code",
   "execution_count": null,
   "metadata": {},
   "outputs": [
    {
     "data": {
      "text/plain": [
       "0               [Shoes, Oxfords, Bostonian, 100627.72.jpg]\n",
       "1              [Shoes, Oxfords, Bostonian, 100627.255.jpg]\n",
       "2               [Shoes, Oxfords, Bostonian, 100657.72.jpg]\n",
       "3              [Shoes, Oxfords, Bostonian, 100657.216.jpg]\n",
       "4                 [Boots, Mid-Calf, Durango, 101026.3.jpg]\n",
       "                               ...                        \n",
       "50020            [Shoes, Heels, J. Renee, 8168300.128.jpg]\n",
       "50021            [Shoes, Heels, J. Renee, 8168300.742.jpg]\n",
       "50022          [Shoes, Heels, J. Renee, 8168300.57113.jpg]\n",
       "50023         [Shoes, Heels, J. Renee, 8168300.384413.jpg]\n",
       "50024    [Shoes, Sneakers and Athletic Shoes, Travis Ma...\n",
       "Name: path_and_file, Length: 34278, dtype: object"
      ]
     },
     "execution_count": null,
     "metadata": {},
     "output_type": "execute_result"
    }
   ],
   "source": [
    "df.path_and_file\n"
   ]
  },
  {
   "cell_type": "code",
   "execution_count": null,
   "metadata": {},
   "outputs": [],
   "source": [
    "df.loc[:,'CategoryDir'] = 'Shoes'\n",
    "df.loc[df.Boots==1,'CategoryDir'] = 'Boots'\n",
    "df.loc[df.Sneakers==1,'CategoryDir'] = 'Sneakers'"
   ]
  },
  {
   "cell_type": "code",
   "execution_count": null,
   "metadata": {},
   "outputs": [],
   "source": [
    "      \n",
    "# save the simple file\n",
    "summary_file ='train_test_val_Feb-06-2020.pkl'\n",
    "#df.to_pickle(summary_file)\n",
    "\n",
    "json_summary_file ='train_test_val_Feb-06-2020.json'\n",
    "#df.to_json(summary_file)  \n",
    "df2 = pd.read_json(json_summary_file)\n",
    "\n",
    "df = pd.read_json('categories_with_features_Feb-05-2020.json')\n",
    "\n",
    "        "
   ]
  }
 ],
 "metadata": {
  "kernelspec": {
   "display_name": "Python 3",
   "language": "python",
   "name": "python3"
  }
 },
 "nbformat": 4,
 "nbformat_minor": 4
}
