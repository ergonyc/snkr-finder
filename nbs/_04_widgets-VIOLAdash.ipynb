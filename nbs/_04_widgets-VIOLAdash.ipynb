{
 "cells": [
  {
   "cell_type": "code",
   "execution_count": null,
   "metadata": {},
   "outputs": [],
   "source": []
  },
  {
   "cell_type": "code",
   "execution_count": null,
   "metadata": {},
   "outputs": [
    {
     "ename": "ModuleNotFoundError",
     "evalue": "No module named 'snkrfinder.widgets'",
     "output_type": "error",
     "traceback": [
      "\u001b[0;31m---------------------------------------------------------------------------\u001b[0m",
      "\u001b[0;31mModuleNotFoundError\u001b[0m                       Traceback (most recent call last)",
      "\u001b[0;32m<ipython-input-35-317455b7dcb5>\u001b[0m in \u001b[0;36m<module>\u001b[0;34m\u001b[0m\n\u001b[1;32m      5\u001b[0m \u001b[0;32mfrom\u001b[0m \u001b[0msnkrfinder\u001b[0m\u001b[0;34m.\u001b[0m\u001b[0mmodel\u001b[0m \u001b[0;32mimport\u001b[0m \u001b[0;34m*\u001b[0m\u001b[0;34m\u001b[0m\u001b[0;34m\u001b[0m\u001b[0m\n\u001b[1;32m      6\u001b[0m \u001b[0;32mfrom\u001b[0m \u001b[0msnkrfinder\u001b[0m\u001b[0;34m.\u001b[0m\u001b[0mcvae\u001b[0m \u001b[0;32mimport\u001b[0m \u001b[0;34m*\u001b[0m\u001b[0;34m\u001b[0m\u001b[0;34m\u001b[0m\u001b[0m\n\u001b[0;32m----> 7\u001b[0;31m \u001b[0;32mfrom\u001b[0m \u001b[0msnkrfinder\u001b[0m\u001b[0;34m.\u001b[0m\u001b[0mwidgets\u001b[0m \u001b[0;32mimport\u001b[0m \u001b[0;34m*\u001b[0m\u001b[0;34m\u001b[0m\u001b[0;34m\u001b[0m\u001b[0m\n\u001b[0m\u001b[1;32m      8\u001b[0m \u001b[0;34m\u001b[0m\u001b[0m\n\u001b[1;32m      9\u001b[0m \u001b[0;31m#from ipywidgets import widgets\u001b[0m\u001b[0;34m\u001b[0m\u001b[0;34m\u001b[0m\u001b[0;34m\u001b[0m\u001b[0m\n",
      "\u001b[0;31mModuleNotFoundError\u001b[0m: No module named 'snkrfinder.widgets'"
     ]
    }
   ],
   "source": [
    "# export\n",
    "from snkrfinder.imports import *\n",
    "from snkrfinder.core import *\n",
    "from snkrfinder.data import *\n",
    "from snkrfinder.model import *\n",
    "from snkrfinder.cvae import *\n",
    "from snkrfinder.widgets import *\n",
    "\n",
    "#from ipywidgets import widgets\n",
    "#from ipywidgets import HBox,VBox,widgets,Button,Checkbox,Dropdown,Layout,Box,Output,Label,FileUpload\n",
    "# from fastai.vision.widgets import *  # in imports\n",
    "#from ipywidgets import Tab #fastai didn't include Tab\n",
    "import seaborn as sns\n"
   ]
  },
  {
   "cell_type": "code",
   "execution_count": null,
   "metadata": {},
   "outputs": [],
   "source": [
    "#hide\n",
    "from nbdev.showdoc import *"
   ]
  },
  {
   "cell_type": "code",
   "execution_count": null,
   "metadata": {},
   "outputs": [],
   "source": [
    "%load_ext autoreload\n",
    "%autoreload 2"
   ]
  },
  {
   "cell_type": "code",
   "execution_count": null,
   "metadata": {},
   "outputs": [
    {
     "name": "stdout",
     "output_type": "stream",
     "text": [
      "fastai v2.2.5\n"
     ]
    }
   ],
   "source": [
    "#hide\n",
    "print(f\"fastai v{fastai.__version__}\")"
   ]
  },
  {
   "cell_type": "code",
   "execution_count": null,
   "metadata": {},
   "outputs": [],
   "source": [
    "os.chdir(L_ROOT)"
   ]
  },
  {
   "cell_type": "code",
   "execution_count": null,
   "metadata": {},
   "outputs": [],
   "source": [
    "# this should go into a utils or cfg module\n",
    "HOME = get_home()"
   ]
  },
  {
   "cell_type": "markdown",
   "metadata": {},
   "source": [
    "### Sneaker Finder 2.0 aka fast-sneak"
   ]
  },
  {
   "cell_type": "code",
   "execution_count": null,
   "metadata": {},
   "outputs": [],
   "source": [
    "# ts = [display(img.to_thumb(200,200))]+[display(i.to_thumb(100,100)) for i in images]\n",
    "\n",
    "# nnc = carousel(ts, width='1200px')\n",
    "\n",
    "# out_pl = HBox[display(img.to_thumb(200,200)), carousel]"
   ]
  },
  {
   "cell_type": "code",
   "execution_count": null,
   "metadata": {},
   "outputs": [],
   "source": [
    "def pack_featurenets(model_list):\n",
    "    return {m:create_cnn_featurenet(m,to_cuda=False) for m in model_list }\n",
    "    \n",
    "\n",
    "MODELS = pack_featurenets(['mobilenet_v2','resnet18'])"
   ]
  },
  {
   "cell_type": "code",
   "execution_count": null,
   "metadata": {},
   "outputs": [],
   "source": [
    "# %matplotlib inline\n",
    "\n",
    "load_pipe    = Pipeline([PILImage.create,\n",
    "                         FeatsResize(size=IMG_SIZE, method='pad', pad_mode='border')] )\n",
    "\n",
    "prep_tf_pipe = Pipeline([ToTensor(),\n",
    "                         IntToFloatTensor(),\n",
    "                         Normalize.from_stats(*imagenet_stats,cuda=False)])\n",
    "\n",
    "\n",
    "\n",
    "\n",
    "# #set defaults \n",
    "# neighs = knns['small']\n",
    "# umap = reducers['small']\n",
    "# DEFAULT GLOBALS to start\n",
    "im_sz = 'small'\n",
    "model = MODELS['mobilenet_v2']\n",
    "filename = f\"zappos-50k-{model.name}-features_sort_3\"\n",
    "df = pd.read_pickle(f\"data/{filename}.pkl\")\n",
    "\n",
    "num_neighs = 5\n",
    "# save the knns and umap reducers for later use\n",
    "filename = f\"data/{model.name}-knn{num_neighs}Xsize.pkl\"\n",
    "knns = load_pickle(filename)\n",
    "\n",
    "filename = f\"data/{model.name}-umapXsize.pkl\"\n",
    "reducers = load_pickle(filename)   \n"
   ]
  },
  {
   "cell_type": "code",
   "execution_count": null,
   "metadata": {},
   "outputs": [],
   "source": [
    "def plot_umap(data,im_sz,mname):\n",
    "    fig, ax = plt.subplots()\n",
    "    sns.scatterplot(\n",
    "        x=\"umap-one\",\n",
    "        y=\"umap-two\",\n",
    "        hue=\"Category\",\n",
    "        hue_order = ['Sneakers', 'Shoes', 'Boots','Slippers'],\n",
    "        palette=sns.color_palette(\"hls\", 4),\n",
    "        data=data.sample(frac=sld_sampfrac.value),\n",
    "        legend=\"full\",\n",
    "        alpha=0.3,ax=ax\n",
    "    )\n",
    "    ax.set_aspect('equal', 'datalim')\n",
    "    ax.set_title(f'UMAP projection of {mname} embedded UT-Zappos data (sz={IMG_SIZES[im_sz]})', fontsize=12)\n",
    "    return ax\n",
    "\n",
    "def on_click_find_similar(change):\n",
    "    \"\"\" \n",
    "    this is the 'go' signal\n",
    "    \"\"\"\n",
    "    global im_sz\n",
    "    update_knn_reducer(im_sz)\n",
    "    find_similar()\n",
    "\n",
    "def find_similar():\n",
    "    \"\"\" \n",
    "    find the knn\n",
    "    \"\"\"\n",
    "    global knns,model,im_sz,df\n",
    "    neighs = knns[im_sz]\n",
    "    \n",
    "    # load the image\n",
    "    im = btn_upload.data[-1]\n",
    "    img = load_pipe(im)\n",
    "    tensor_im = prep_tf_pipe(img)\n",
    "    feats = get_convnet_feature(model, tensor_im)\n",
    "    \n",
    "    # find the neighbors\n",
    "    distance, nn_index = neighs.kneighbors(feats.numpy(), return_distance=True)    \n",
    "    dist = distance.tolist()[0] \n",
    "    # fix path to the database...\n",
    "    neighbors = df.iloc[nn_index.tolist()[0]].copy()\n",
    "    nbr = neighbors.index\n",
    "\n",
    "    \n",
    "    #widget(im, max_width=\"292px\")\n",
    "    \n",
    "    images = [ PILImage.create(D_ROOT/DBS['zappos']/f) for f in neighbors.path]\n",
    "    \n",
    "    ts = [VBox([widget(im, max_width=\"292px\"),Label(f\"d={d:.03f}\")]) for im,d in zip(images,dist)]\n",
    "    target_im = img.to_thumb(200,200)\n",
    "    \n",
    "    car_nn = carousel(ts, width='1200px')\n",
    "    \n",
    "    out_nn_imgs.clear_output()\n",
    "    with out_nn_imgs:\n",
    "        display(HBox([widget(target_im, max_width=\"500px\"), car_nn]))\n",
    "\n",
    "    #lbl_neighs.value = f'distances: {dist}\n",
    "\n",
    "\n",
    "def update_knn_reducer(size):\n",
    "    \"update knn & reducer for new size im, but nothing is recalculated until the btn_run is clicked\"\n",
    "    # set to the current \n",
    "    global model,knns,reducers,im_sz,df\n",
    "    im_sz = size\n",
    "        \n",
    "    umap = reducers[im_sz]\n",
    "    neighs = knns[im_sz]\n",
    "\n",
    "    features = f\"features_{SIZE_ABBR[im_sz]}\"\n",
    "    data = df[['Category',features]].copy()\n",
    "    \n",
    "    db_feats = np.vstack(data[features].values)   \n",
    "    # this is probably the bottleneck...\n",
    "    embedding = umap.transform(db_feats)    \n",
    "    data['umap-one'] = embedding[:,0]\n",
    "    data['umap-two'] = embedding[:,1] \n",
    "\n",
    "    out_umap.clear_output()\n",
    "    with out_umap:\n",
    "        ax = plot_umap(data,size,model.name)\n",
    "        plt.show(ax)\n",
    "\n",
    "    find_similar()  \n",
    "\n",
    "def update_model(model_name,size):\n",
    "    \" update the model but nothing is recalculated until the btn_run is clicked\"\n",
    "    #key = {sz:i for (i,sz) in enumerate(IMG_SIZES)}\n",
    "    global model,knns,reducers,df\n",
    "    model = MODELS[model_name]\n",
    "\n",
    "    num_neighs = 5\n",
    "    if model_name!=model.name :  print(f\"dammit, '{model_name}'!='{model.name}'\")\n",
    "    # save the knns and umap reducers for later use\n",
    "    knns = load_pickle(f\"data/{model.name}-knn{num_neighs}Xsize.pkl\")\n",
    "\n",
    "    reducers = load_pickle(f\"data/{model.name}-umapXsize.pkl\")   \n",
    "    \n",
    "    filename = f\"zappos-50k-{model.name}-features_sort_3\"\n",
    "    df = pd.read_pickle(f\"data/{filename}.pkl\")\n",
    "\n",
    "    update_knn_reducer(size)\n",
    "\n",
    "#Events\n",
    "def dd_im_size_eh(change):\n",
    "    update_knn_reducer(change.new)\n",
    "    \n",
    "def dd_model_eh(change):\n",
    "    update_model(change.new,dd_im_size.value)\n",
    "\n",
    "\n",
    "#define my widgets\n",
    "btn_run = Button(description='Find similar sneaks!',layout = Layout(width='25%', height='80px'))\n",
    "btn_upload = FileUpload(layout = Layout(width='25%', height='80px'))\n",
    "\n",
    "out_umap = Output() # not doing anything here yet...\n",
    "# lbl_neighs = Label() # labels for neighbors\n",
    "out_nn_imgs = Output() # VBox([out_im,out_car])\n",
    "\n",
    "dd_im_size = Dropdown(options=IMG_SIZES.keys(),value='small',description='Image Size:' )                       \n",
    "dd_model = Dropdown(options=['mobilenet_v2','resnet18'], \n",
    "                    value='mobilenet_v2',\n",
    "                    disabled=False,\n",
    "                    description='Model:')\n",
    "                    #,layout = Layout(width='40%') ) #style=style,\n",
    "    \n",
    "sld_sampfrac = widgets.FloatSlider(value=.5,\n",
    "                min=0,\n",
    "                max=1.0,\n",
    "                step=0.05,\n",
    "                description='sample %:',\n",
    "                disabled=False,\n",
    "                continuous_update=False,\n",
    "                orientation='vertical',\n",
    "                readout=True,\n",
    "                readout_format='.2f',\n",
    ")\n",
    "              \n",
    "#item_layout = widgets.Layout(margin='0 0 50px 0')\n",
    "#input_widgets = widgets.HBox([dd_model, dd_im_size])\n",
    "\n",
    "knn_select = HBox([dd_model, dd_im_size])\n",
    "\n",
    "\n",
    "tab = widgets.Tab(children=[out_nn_imgs,HBox([out_umap, sld_sampfrac]) ] )#,layout=item_layout)\n",
    "tab.set_title(0, 'Dataset Exploration')\n",
    "tab.set_title(1, 'UMAP Plot')\n",
    "\n",
    "cta = HBox([widgets.Label('Find your sneaker!    '),\n",
    "            btn_upload,\n",
    "            btn_run])\n",
    "\n",
    "console = Label()\n",
    "dashboard =  VBox([ cta,\n",
    "                    knn_select,\n",
    "                    tab,\n",
    "                  console])\n",
    "\n",
    "console = Label()\n",
    "# actions\n",
    "btn_run.on_click(on_click_find_similar)\n",
    "dd_im_size.observe(dd_im_size_eh, names='value')\n",
    "dd_model.observe(dd_model_eh, names='value')\n",
    "# dd_lat_dim.observe(dd_lat_dim_eh, names='value')\n",
    "\n"
   ]
  },
  {
   "cell_type": "code",
   "execution_count": null,
   "metadata": {},
   "outputs": [
    {
     "data": {
      "application/vnd.jupyter.widget-view+json": {
       "model_id": "4c26349cb88d40cea711ab63219fc151",
       "version_major": 2,
       "version_minor": 0
      },
      "text/plain": [
       "VBox(children=(HBox(children=(Label(value='Find your sneaker!    '), FileUpload(value={}, description='Upload'…"
      ]
     },
     "metadata": {},
     "output_type": "display_data"
    }
   ],
   "source": [
    "dashboard"
   ]
  },
  {
   "cell_type": "code",
   "execution_count": null,
   "metadata": {},
   "outputs": [],
   "source": []
  }
 ],
 "metadata": {
  "kernelspec": {
   "display_name": "Python 3",
   "language": "python",
   "name": "python3"
  }
 },
 "nbformat": 4,
 "nbformat_minor": 4
}
