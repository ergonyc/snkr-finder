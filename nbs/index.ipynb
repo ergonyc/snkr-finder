{
 "cells": [
  {
   "cell_type": "code",
   "execution_count": 1,
   "metadata": {},
   "outputs": [],
   "source": [
    "#hide\n",
    "# from snkrfinder.core import * \n",
    "# from snkrfinder.data import *\n",
    "\n"
   ]
  },
  {
   "cell_type": "code",
   "execution_count": 6,
   "metadata": {},
   "outputs": [],
   "source": [
    "#hide\n",
    "from nbdev.showdoc import *"
   ]
  },
  {
   "cell_type": "markdown",
   "metadata": {},
   "source": [
    "# snkr-finder\n",
    "\n",
    "> this repository / module are used to develop the fastai API version of Sneaker Finder:  a tool to help find sneakers similar to what you like!\n"
   ]
  },
  {
   "cell_type": "markdown",
   "metadata": {},
   "source": [
    "WARNING!!!  WORK IN PROGRESS.. PROCEED WITH EXTREME CAUTION \n",
    "\n",
    "- Andy 13Feb, 2021\n",
    "\n",
    "Also note that there are two versions of the repo... `snkr-finder` and `snkrfinder` which both create the snkrfinder module.\n",
    "\n",
    "Confusing, yes.  But mostly for testing and expository learning about import dependencies and nbdev automation tools."
   ]
  },
  {
   "cell_type": "markdown",
   "metadata": {},
   "source": [
    "## Install"
   ]
  },
  {
   "cell_type": "markdown",
   "metadata": {},
   "source": [
    "`pip install snkr-finder`\n",
    "\n",
    "which makes teh snkrfinder module...\n",
    "\n",
    "- snkrfinder.core -> snkrfinder (utils)\n",
    "\n",
    "- snkrfinder.data -> snkrfinder.data\n",
    "\n",
    "- snkrfinder.model -> snkrfinder.model (.core .cvae .transfer)\n",
    "\n",
    "- snkrfinder.widget -> snkrfinder.widget\n",
    "\n",
    "\n",
    "\n",
    "NOTE:  symbolic link in the nbs directory to enable the module loads in these notebooks.  i.e. `ln -s ../snkrfinder/ snkrfinder`"
   ]
  },
  {
   "cell_type": "markdown",
   "metadata": {},
   "source": [
    "## How to use"
   ]
  },
  {
   "cell_type": "markdown",
   "metadata": {},
   "source": [
    "There are several sets of tools:\n",
    "\n",
    "- data ingestion / setup\n",
    "- feature extraction\n",
    "- \"similarity\" finding\n",
    "- visualization\n",
    "- widget/GUI\n",
    "- transfer learning  (modeling)\n",
    "- CVAE models to learn a compact latent space representaiton of sneakers for use in recommenders or generative design tools (snkr-math)"
   ]
  },
  {
   "cell_type": "code",
   "execution_count": 2,
   "metadata": {},
   "outputs": [],
   "source": [
    "from snkrfinder.core import *"
   ]
  },
  {
   "cell_type": "code",
   "execution_count": 3,
   "metadata": {},
   "outputs": [],
   "source": [
    "from snkrfinder.data import *"
   ]
  },
  {
   "cell_type": "code",
   "execution_count": 4,
   "metadata": {},
   "outputs": [],
   "source": [
    "from snkrfinder.model.core import *\n",
    "from snkrfinder.model.transfer import *\n",
    "from snkrfinder.model.cvae import *\n"
   ]
  },
  {
   "cell_type": "code",
   "execution_count": 5,
   "metadata": {},
   "outputs": [],
   "source": [
    "from snkrfinder.widgets import *"
   ]
  },
  {
   "cell_type": "code",
   "execution_count": 7,
   "metadata": {},
   "outputs": [],
   "source": [
    "# todo: fix /model/__init__.py to autoimport models modules...?\n",
    "# todo: fix /__init__.py to autoimport core module...?\n"
   ]
  },
  {
   "cell_type": "code",
   "execution_count": null,
   "metadata": {},
   "outputs": [],
   "source": []
  }
 ],
 "metadata": {
  "kernelspec": {
   "display_name": "Python 3",
   "language": "python",
   "name": "python3"
  },
  "language_info": {
   "codemirror_mode": {
    "name": "ipython",
    "version": 3
   },
   "file_extension": ".py",
   "mimetype": "text/x-python",
   "name": "python",
   "nbconvert_exporter": "python",
   "pygments_lexer": "ipython3",
   "version": "3.8.2"
  },
  "toc": {
   "base_numbering": 1,
   "nav_menu": {},
   "number_sections": true,
   "sideBar": true,
   "skip_h1_title": false,
   "title_cell": "Table of Contents",
   "title_sidebar": "Contents",
   "toc_cell": false,
   "toc_position": {},
   "toc_section_display": true,
   "toc_window_display": false
  }
 },
 "nbformat": 4,
 "nbformat_minor": 2
}
