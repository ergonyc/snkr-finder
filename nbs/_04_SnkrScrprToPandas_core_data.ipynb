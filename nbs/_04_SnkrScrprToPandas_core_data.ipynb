{
 "cells": [
  {
   "cell_type": "code",
   "execution_count": null,
   "metadata": {},
   "outputs": [],
   "source": [
    "#default_exp core.data"
   ]
  },
  {
   "cell_type": "code",
   "execution_count": null,
   "metadata": {},
   "outputs": [],
   "source": []
  },
  {
   "cell_type": "markdown",
   "metadata": {},
   "source": [
    "## Scrapted database....  \n",
    "We used process_scraped_data00.py to process all of our .json dumps... \n",
    "\n",
    "files are in \n",
    "goat\\\n",
    "sns\\\n",
    "\n",
    "AllPages.pkl - DATABASE \n",
    "\n",
    "each product page has a hshed filename.json and .jpeg stored here:\n",
    "pages\\ - individual pages\n",
    "img\\ - images... hashed\n"
   ]
  },
  {
   "cell_type": "code",
   "execution_count": null,
   "metadata": {},
   "outputs": [],
   "source": [
    "#hide\n",
    "\n"
   ]
  },
  {
   "cell_type": "code",
   "execution_count": null,
   "metadata": {},
   "outputs": [],
   "source": [
    "#hide\n",
    "\n",
    "#!/usr/bin/env python\n",
    "\n",
    "import sys\n",
    "import pickle\n",
    "import time\n",
    "import os\n",
    "import json\n",
    "\n",
    "# import urllib.request\n",
    "import hashlib\n",
    "import glob\n",
    "\n",
    "\n",
    "import pandas as pd\n",
    "import numpy as np\n",
    "\n",
    "\n",
    "###############"
   ]
  },
  {
   "cell_type": "code",
   "execution_count": null,
   "metadata": {},
   "outputs": [
    {
     "data": {
      "text/plain": [
       "'/home/ergonyc'"
      ]
     },
     "execution_count": null,
     "metadata": {},
     "output_type": "execute_result"
    }
   ],
   "source": [
    "os.getenv(\"HOME\")"
   ]
  },
  {
   "cell_type": "code",
   "execution_count": null,
   "metadata": {},
   "outputs": [],
   "source": [
    "DB_ROOT = os.path.join(os.getenv(\"HOME\"),\"Projects/DATABASE\")\n",
    "# raw data is in Project2.0/SnkrScrpr path . linked to master DATABASE path\n",
    "\n",
    "DB_PATH = os.path.join(DB_ROOT, \"SnkrScrpr/data\")\n",
    "\n",
    "IMAGE_FOLDER = 'img'\n",
    "PAGES_FOLDER = \"pages\""
   ]
  },
  {
   "cell_type": "markdown",
   "metadata": {},
   "source": [
    "# Create a simple database of \"sneakers\"\n",
    "\n",
    "- images (need to access) path to fit beta-VAE \n",
    "- descriptions for fitting text autoencoder\n",
    "- skip \"meta\" data (will come back to this later for further analysis."
   ]
  },
  {
   "cell_type": "code",
   "execution_count": null,
   "metadata": {},
   "outputs": [],
   "source": [
    "\n",
    "\n",
    "path = os.path.join(DB_PATH, \"full_data.pkl\")\n",
    "df_scraped = pd.read_pickle(path)\n",
    "\n",
    "\n",
    "# filename = \"zappos-50k-simplified\"\n",
    "# this is in the local directory\n",
    "filename = \"zappos-50k-simplified_sort\"\n",
    "df_zappos = pd.read_pickle(f\"data/{filename}.pkl\")"
   ]
  },
  {
   "cell_type": "code",
   "execution_count": null,
   "metadata": {
    "tags": []
   },
   "outputs": [
    {
     "data": {
      "text/html": [
       "<div>\n",
       "<style scoped>\n",
       "    .dataframe tbody tr th:only-of-type {\n",
       "        vertical-align: middle;\n",
       "    }\n",
       "\n",
       "    .dataframe tbody tr th {\n",
       "        vertical-align: top;\n",
       "    }\n",
       "\n",
       "    .dataframe thead th {\n",
       "        text-align: right;\n",
       "    }\n",
       "</style>\n",
       "<table border=\"1\" class=\"dataframe\">\n",
       "  <thead>\n",
       "    <tr style=\"text-align: right;\">\n",
       "      <th></th>\n",
       "      <th>url</th>\n",
       "      <th>hero</th>\n",
       "      <th>images</th>\n",
       "      <th>description</th>\n",
       "      <th>price_list</th>\n",
       "      <th>attributes</th>\n",
       "      <th>attributes_links</th>\n",
       "      <th>see_also_links</th>\n",
       "      <th>hero_fullpath</th>\n",
       "    </tr>\n",
       "  </thead>\n",
       "  <tbody>\n",
       "    <tr>\n",
       "      <th>0</th>\n",
       "      <td>https://www.goat.com/sneakers/air-jordan-11-re...</td>\n",
       "      <td>99543f4630.jpg</td>\n",
       "      <td>[https://image.goat.com/crop/750/attachments/p...</td>\n",
       "      <td>Released in December, the Air Jordan 11 Retro ...</td>\n",
       "      <td>[6M\\n$395, 6.5M\\n$495, 7M\\n$560\\n$605, 7.5M\\n$...</td>\n",
       "      <td>[RELEASE DATE\\n2012-12-21, SKU\\n378037 010, BR...</td>\n",
       "      <td>[https://www.goat.com/sneakers/brand/air%20jor...</td>\n",
       "      <td>[]</td>\n",
       "      <td>/Users/ergonyc/Projects/DATABASE/SnkrScrpr/dat...</td>\n",
       "    </tr>\n",
       "    <tr>\n",
       "      <th>1</th>\n",
       "      <td>https://www.goat.com/sneakers/yeezy-boost-700-...</td>\n",
       "      <td>3fbd48e729.jpg</td>\n",
       "      <td>[https://image.goat.com/crop/750/attachments/p...</td>\n",
       "      <td>The adidas Yeezy Boost 700 'Carbon Blue' is a ...</td>\n",
       "      <td>[4M\\n$395\\nLOWEST PRICE, 4.5M\\n$395\\nLOWEST PR...</td>\n",
       "      <td>[RELEASE DATE\\n2019-12-18, SKU\\nFW2498, BRAND\\...</td>\n",
       "      <td>[https://www.goat.com/sneakers/brand/adidas, h...</td>\n",
       "      <td>[]</td>\n",
       "      <td>/Users/ergonyc/Projects/DATABASE/SnkrScrpr/dat...</td>\n",
       "    </tr>\n",
       "    <tr>\n",
       "      <th>2</th>\n",
       "      <td>https://www.goat.com/sneakers/sacai-x-ldv-waff...</td>\n",
       "      <td>6721456f62.jpg</td>\n",
       "      <td>[https://image.goat.com/crop/750/attachments/p...</td>\n",
       "      <td>The Sacai x LDWaffle fuses the Japanese label'...</td>\n",
       "      <td>[3.5M\\n$550\\n$650, 4M\\n$455\\n$465, 4.5M\\n$455\\...</td>\n",
       "      <td>[RELEASE DATE\\n2019-09-12, SKU\\nBV0073 301, BR...</td>\n",
       "      <td>[https://www.goat.com/sneakers/brand/nike, htt...</td>\n",
       "      <td>[]</td>\n",
       "      <td>/Users/ergonyc/Projects/DATABASE/SnkrScrpr/dat...</td>\n",
       "    </tr>\n",
       "    <tr>\n",
       "      <th>3</th>\n",
       "      <td>https://www.goat.com/sneakers/colin-kaepernick...</td>\n",
       "      <td>27fbbaad00.jpg</td>\n",
       "      <td>[https://image.goat.com/crop/750/attachments/p...</td>\n",
       "      <td>Made in collaboration with the athlete turned ...</td>\n",
       "      <td>[4M\\n$125\\n$135, 4.5M\\n$185, 5M\\n$150\\n$200, 5...</td>\n",
       "      <td>[RELEASE DATE\\n2019-12-23, SKU\\nCQ0493 001, BR...</td>\n",
       "      <td>[https://www.goat.com/sneakers/brand/nike, htt...</td>\n",
       "      <td>[]</td>\n",
       "      <td>/Users/ergonyc/Projects/DATABASE/SnkrScrpr/dat...</td>\n",
       "    </tr>\n",
       "    <tr>\n",
       "      <th>4</th>\n",
       "      <td>https://www.goat.com/sneakers/travis-scott-x-a...</td>\n",
       "      <td>df16a19226.jpg</td>\n",
       "      <td>[https://image.goat.com/crop/750/attachments/p...</td>\n",
       "      <td>The Travis Scott x Air Jordan 6 Retro 'Olive' ...</td>\n",
       "      <td>[6.5M\\n$685, 7M\\n$750\\n$815, 7.5M\\n$815\\n$1,07...</td>\n",
       "      <td>[RELEASE DATE\\n2019-10-11, SKU\\nCN1084 200, BR...</td>\n",
       "      <td>[https://www.goat.com/sneakers/brand/air%20jor...</td>\n",
       "      <td>[]</td>\n",
       "      <td>/Users/ergonyc/Projects/DATABASE/SnkrScrpr/dat...</td>\n",
       "    </tr>\n",
       "  </tbody>\n",
       "</table>\n",
       "</div>"
      ],
      "text/plain": [
       "                                                 url            hero  \\\n",
       "0  https://www.goat.com/sneakers/air-jordan-11-re...  99543f4630.jpg   \n",
       "1  https://www.goat.com/sneakers/yeezy-boost-700-...  3fbd48e729.jpg   \n",
       "2  https://www.goat.com/sneakers/sacai-x-ldv-waff...  6721456f62.jpg   \n",
       "3  https://www.goat.com/sneakers/colin-kaepernick...  27fbbaad00.jpg   \n",
       "4  https://www.goat.com/sneakers/travis-scott-x-a...  df16a19226.jpg   \n",
       "\n",
       "                                              images  \\\n",
       "0  [https://image.goat.com/crop/750/attachments/p...   \n",
       "1  [https://image.goat.com/crop/750/attachments/p...   \n",
       "2  [https://image.goat.com/crop/750/attachments/p...   \n",
       "3  [https://image.goat.com/crop/750/attachments/p...   \n",
       "4  [https://image.goat.com/crop/750/attachments/p...   \n",
       "\n",
       "                                         description  \\\n",
       "0  Released in December, the Air Jordan 11 Retro ...   \n",
       "1  The adidas Yeezy Boost 700 'Carbon Blue' is a ...   \n",
       "2  The Sacai x LDWaffle fuses the Japanese label'...   \n",
       "3  Made in collaboration with the athlete turned ...   \n",
       "4  The Travis Scott x Air Jordan 6 Retro 'Olive' ...   \n",
       "\n",
       "                                          price_list  \\\n",
       "0  [6M\\n$395, 6.5M\\n$495, 7M\\n$560\\n$605, 7.5M\\n$...   \n",
       "1  [4M\\n$395\\nLOWEST PRICE, 4.5M\\n$395\\nLOWEST PR...   \n",
       "2  [3.5M\\n$550\\n$650, 4M\\n$455\\n$465, 4.5M\\n$455\\...   \n",
       "3  [4M\\n$125\\n$135, 4.5M\\n$185, 5M\\n$150\\n$200, 5...   \n",
       "4  [6.5M\\n$685, 7M\\n$750\\n$815, 7.5M\\n$815\\n$1,07...   \n",
       "\n",
       "                                          attributes  \\\n",
       "0  [RELEASE DATE\\n2012-12-21, SKU\\n378037 010, BR...   \n",
       "1  [RELEASE DATE\\n2019-12-18, SKU\\nFW2498, BRAND\\...   \n",
       "2  [RELEASE DATE\\n2019-09-12, SKU\\nBV0073 301, BR...   \n",
       "3  [RELEASE DATE\\n2019-12-23, SKU\\nCQ0493 001, BR...   \n",
       "4  [RELEASE DATE\\n2019-10-11, SKU\\nCN1084 200, BR...   \n",
       "\n",
       "                                    attributes_links see_also_links  \\\n",
       "0  [https://www.goat.com/sneakers/brand/air%20jor...             []   \n",
       "1  [https://www.goat.com/sneakers/brand/adidas, h...             []   \n",
       "2  [https://www.goat.com/sneakers/brand/nike, htt...             []   \n",
       "3  [https://www.goat.com/sneakers/brand/nike, htt...             []   \n",
       "4  [https://www.goat.com/sneakers/brand/air%20jor...             []   \n",
       "\n",
       "                                       hero_fullpath  \n",
       "0  /Users/ergonyc/Projects/DATABASE/SnkrScrpr/dat...  \n",
       "1  /Users/ergonyc/Projects/DATABASE/SnkrScrpr/dat...  \n",
       "2  /Users/ergonyc/Projects/DATABASE/SnkrScrpr/dat...  \n",
       "3  /Users/ergonyc/Projects/DATABASE/SnkrScrpr/dat...  \n",
       "4  /Users/ergonyc/Projects/DATABASE/SnkrScrpr/dat...  "
      ]
     },
     "execution_count": null,
     "metadata": {},
     "output_type": "execute_result"
    }
   ],
   "source": [
    "# load into pandas\n",
    "attributes = df_scraped.attributes.values\n",
    "description = df_scraped.description.values\n",
    "df_scraped.head()"
   ]
  },
  {
   "cell_type": "code",
   "execution_count": null,
   "metadata": {},
   "outputs": [
    {
     "data": {
      "text/html": [
       "<div>\n",
       "<style scoped>\n",
       "    .dataframe tbody tr th:only-of-type {\n",
       "        vertical-align: middle;\n",
       "    }\n",
       "\n",
       "    .dataframe tbody tr th {\n",
       "        vertical-align: top;\n",
       "    }\n",
       "\n",
       "    .dataframe thead th {\n",
       "        text-align: right;\n",
       "    }\n",
       "</style>\n",
       "<table border=\"1\" class=\"dataframe\">\n",
       "  <thead>\n",
       "    <tr style=\"text-align: right;\">\n",
       "      <th></th>\n",
       "      <th>CID</th>\n",
       "      <th>Category</th>\n",
       "      <th>path</th>\n",
       "      <th>path_and_file</th>\n",
       "      <th>Category1</th>\n",
       "      <th>Category2</th>\n",
       "      <th>Filename</th>\n",
       "      <th>Sneakers</th>\n",
       "      <th>Boots</th>\n",
       "      <th>Shoes</th>\n",
       "      <th>Slippers</th>\n",
       "      <th>Adult</th>\n",
       "      <th>Gender</th>\n",
       "      <th>train</th>\n",
       "      <th>test</th>\n",
       "      <th>validate</th>\n",
       "      <th>t_t_v</th>\n",
       "    </tr>\n",
       "  </thead>\n",
       "  <tbody>\n",
       "    <tr>\n",
       "      <th>0</th>\n",
       "      <td>7965307-5291</td>\n",
       "      <td>Boots</td>\n",
       "      <td>Boots/Ankle/A. Testoni/7965307.5291.jpg</td>\n",
       "      <td>[Boots, Ankle, A. Testoni, 7965307.5291.jpg]</td>\n",
       "      <td>Boots</td>\n",
       "      <td>Ankle</td>\n",
       "      <td>7965307.5291.jpg</td>\n",
       "      <td>False</td>\n",
       "      <td>True</td>\n",
       "      <td>False</td>\n",
       "      <td>False</td>\n",
       "      <td>True</td>\n",
       "      <td>Men</td>\n",
       "      <td>True</td>\n",
       "      <td>False</td>\n",
       "      <td>False</td>\n",
       "      <td>train</td>\n",
       "    </tr>\n",
       "    <tr>\n",
       "      <th>1</th>\n",
       "      <td>7999255-363731</td>\n",
       "      <td>Boots</td>\n",
       "      <td>Boots/Ankle/A. Testoni/7999255.363731.jpg</td>\n",
       "      <td>[Boots, Ankle, A. Testoni, 7999255.363731.jpg]</td>\n",
       "      <td>Boots</td>\n",
       "      <td>Ankle</td>\n",
       "      <td>7999255.363731.jpg</td>\n",
       "      <td>False</td>\n",
       "      <td>True</td>\n",
       "      <td>False</td>\n",
       "      <td>False</td>\n",
       "      <td>True</td>\n",
       "      <td>Men</td>\n",
       "      <td>True</td>\n",
       "      <td>False</td>\n",
       "      <td>False</td>\n",
       "      <td>train</td>\n",
       "    </tr>\n",
       "    <tr>\n",
       "      <th>2</th>\n",
       "      <td>8000978-364150</td>\n",
       "      <td>Boots</td>\n",
       "      <td>Boots/Ankle/A. Testoni/8000978.364150.jpg</td>\n",
       "      <td>[Boots, Ankle, A. Testoni, 8000978.364150.jpg]</td>\n",
       "      <td>Boots</td>\n",
       "      <td>Ankle</td>\n",
       "      <td>8000978.364150.jpg</td>\n",
       "      <td>False</td>\n",
       "      <td>True</td>\n",
       "      <td>False</td>\n",
       "      <td>False</td>\n",
       "      <td>True</td>\n",
       "      <td>Men</td>\n",
       "      <td>False</td>\n",
       "      <td>True</td>\n",
       "      <td>False</td>\n",
       "      <td>test</td>\n",
       "    </tr>\n",
       "    <tr>\n",
       "      <th>3</th>\n",
       "      <td>8113228-1897</td>\n",
       "      <td>Boots</td>\n",
       "      <td>Boots/Ankle/AIGLE/8113228.1897.jpg</td>\n",
       "      <td>[Boots, Ankle, AIGLE, 8113228.1897.jpg]</td>\n",
       "      <td>Boots</td>\n",
       "      <td>Ankle</td>\n",
       "      <td>8113228.1897.jpg</td>\n",
       "      <td>False</td>\n",
       "      <td>True</td>\n",
       "      <td>False</td>\n",
       "      <td>False</td>\n",
       "      <td>True</td>\n",
       "      <td>Women</td>\n",
       "      <td>True</td>\n",
       "      <td>False</td>\n",
       "      <td>False</td>\n",
       "      <td>train</td>\n",
       "    </tr>\n",
       "    <tr>\n",
       "      <th>4</th>\n",
       "      <td>8113228-1912</td>\n",
       "      <td>Boots</td>\n",
       "      <td>Boots/Ankle/AIGLE/8113228.1912.jpg</td>\n",
       "      <td>[Boots, Ankle, AIGLE, 8113228.1912.jpg]</td>\n",
       "      <td>Boots</td>\n",
       "      <td>Ankle</td>\n",
       "      <td>8113228.1912.jpg</td>\n",
       "      <td>False</td>\n",
       "      <td>True</td>\n",
       "      <td>False</td>\n",
       "      <td>False</td>\n",
       "      <td>True</td>\n",
       "      <td>Women</td>\n",
       "      <td>True</td>\n",
       "      <td>False</td>\n",
       "      <td>False</td>\n",
       "      <td>train</td>\n",
       "    </tr>\n",
       "  </tbody>\n",
       "</table>\n",
       "</div>"
      ],
      "text/plain": [
       "              CID Category                                       path  \\\n",
       "0    7965307-5291    Boots    Boots/Ankle/A. Testoni/7965307.5291.jpg   \n",
       "1  7999255-363731    Boots  Boots/Ankle/A. Testoni/7999255.363731.jpg   \n",
       "2  8000978-364150    Boots  Boots/Ankle/A. Testoni/8000978.364150.jpg   \n",
       "3    8113228-1897    Boots         Boots/Ankle/AIGLE/8113228.1897.jpg   \n",
       "4    8113228-1912    Boots         Boots/Ankle/AIGLE/8113228.1912.jpg   \n",
       "\n",
       "                                    path_and_file Category1 Category2  \\\n",
       "0    [Boots, Ankle, A. Testoni, 7965307.5291.jpg]     Boots     Ankle   \n",
       "1  [Boots, Ankle, A. Testoni, 7999255.363731.jpg]     Boots     Ankle   \n",
       "2  [Boots, Ankle, A. Testoni, 8000978.364150.jpg]     Boots     Ankle   \n",
       "3         [Boots, Ankle, AIGLE, 8113228.1897.jpg]     Boots     Ankle   \n",
       "4         [Boots, Ankle, AIGLE, 8113228.1912.jpg]     Boots     Ankle   \n",
       "\n",
       "             Filename  Sneakers  Boots  Shoes  Slippers  Adult Gender  train  \\\n",
       "0    7965307.5291.jpg     False   True  False     False   True    Men   True   \n",
       "1  7999255.363731.jpg     False   True  False     False   True    Men   True   \n",
       "2  8000978.364150.jpg     False   True  False     False   True    Men  False   \n",
       "3    8113228.1897.jpg     False   True  False     False   True  Women   True   \n",
       "4    8113228.1912.jpg     False   True  False     False   True  Women   True   \n",
       "\n",
       "    test  validate  t_t_v  \n",
       "0  False     False  train  \n",
       "1  False     False  train  \n",
       "2   True     False   test  \n",
       "3  False     False  train  \n",
       "4  False     False  train  "
      ]
     },
     "execution_count": null,
     "metadata": {},
     "output_type": "execute_result"
    }
   ],
   "source": [
    "df_zappos.head()"
   ]
  },
  {
   "cell_type": "code",
   "execution_count": null,
   "metadata": {},
   "outputs": [],
   "source": [
    "#infer:\n",
    "#  Sneakers, Boots, Shoes, Slippers (Slides?), Category, Gender \n",
    "\n",
    "#fix hero_full_path"
   ]
  },
  {
   "cell_type": "markdown",
   "metadata": {},
   "source": [
    "I need to put the scraped databases from SNS (sneakersnstuff.com) and GOAT (goat.com) into a dataframe with columns suitable merge with the UTZappos database I originally started with.   \n",
    "I'll spend some time infering the `Category`, `Brand`, `Gender` (and `model`?) so I can pay attention to class balance .  From the transfer learning work, the `Slippers` category is pretty poor, but I should be able to use that net to label the scraped data... and validate based on the `attributes` and `see_also` fields.\n",
    "\n",
    "First things first:  fix the \"hero_fullpath\" so its agnostic of OS (Mac or Linux).\n"
   ]
  },
  {
   "cell_type": "code",
   "execution_count": null,
   "metadata": {
    "tags": []
   },
   "outputs": [
    {
     "data": {
      "text/plain": [
       "0       scraped/goat/99543f4630.jpg\n",
       "1       scraped/goat/3fbd48e729.jpg\n",
       "2       scraped/goat/6721456f62.jpg\n",
       "3       scraped/goat/27fbbaad00.jpg\n",
       "4       scraped/goat/df16a19226.jpg\n",
       "                   ...             \n",
       "1333     scraped/sns/eb4f3eada8.jpg\n",
       "1334     scraped/sns/5dace85f70.jpg\n",
       "1335     scraped/sns/2a18731113.jpg\n",
       "1336     scraped/sns/9cb275f3aa.jpg\n",
       "1337     scraped/sns/6d6c0b7b97.jpg\n",
       "Name: path, Length: 2337, dtype: object"
      ]
     },
     "execution_count": null,
     "metadata": {},
     "output_type": "execute_result"
    }
   ],
   "source": [
    "\n",
    "df_scraped.loc[:,\"path\"]=df_scraped.hero_fullpath.str.split('/').apply(lambda x: 'scraped/'+x[-3]+'/'+x[-1])\n",
    "\n",
    "df_scraped[\"path\"]"
   ]
  },
  {
   "cell_type": "code",
   "execution_count": null,
   "metadata": {},
   "outputs": [],
   "source": [
    "def extract_cat(lst):\n",
    "    for l in lst:\n",
    "        if l.startswith(\"CATEGORY\"):\n",
    "            return l.split(\"\\n\")[-1]\n",
    "    return \"na\" #np.nan\n",
    "\n",
    "def extract_brand_goat(lst):\n",
    "    for l in lst:\n",
    "        if l.startswith(\"BRAND\"):\n",
    "            return l.split(\"\\n\")[-1]\n",
    "    return \"na\"\n",
    "\n",
    "def extract_brand_sns(lst):\n",
    "    return lst[1]\n",
    "\n",
    "def extract_db_nm(pathn):\n",
    "    return pathn.split('/')[0]\n"
   ]
  },
  {
   "cell_type": "code",
   "execution_count": null,
   "metadata": {},
   "outputs": [],
   "source": [
    "df_scraped.loc[:,\"brand\"]=df_scraped.attributes.apply(extract_brand_sns)\n",
    "df_scraped.loc[:,\"cat\"]=df_scraped.attributes.apply(extract_cat)\n"
   ]
  },
  {
   "cell_type": "code",
   "execution_count": null,
   "metadata": {},
   "outputs": [
    {
     "data": {
      "text/plain": [
       "'goat'"
      ]
     },
     "execution_count": null,
     "metadata": {},
     "output_type": "execute_result"
    }
   ],
   "source": [
    "# could also use the attributes_links to gextract stuff too\n",
    "# note the sns attributes aren't as obvious...\n",
    "df_scraped[\"attributes\"].values[-5]\n",
    "df_scraped[\"path\"].values[0].split(\"/\")[1]"
   ]
  },
  {
   "cell_type": "code",
   "execution_count": null,
   "metadata": {},
   "outputs": [],
   "source": [
    "df_scraped.loc[:,\"db_name\"]=df_scraped[\"path\"].apply(extract_db_nm)\n",
    "\n",
    "df_scraped.loc[df_scraped['db_name']=='goat',\"brand\"]=df_scraped.loc[df_scraped['db_name']=='goat',\"attributes\"].apply(extract_brand_goat)"
   ]
  },
  {
   "cell_type": "code",
   "execution_count": null,
   "metadata": {},
   "outputs": [
    {
     "data": {
      "text/plain": [
       "Nike Sportswear     293\n",
       "adidas Originals    224\n",
       "Converse            119\n",
       "Reebok              106\n",
       "New Balance          78\n",
       "                   ... \n",
       "SKU\\nCI1503 001       1\n",
       "SKU\\nCt2552 800       1\n",
       "SKU\\nAH7832 600       1\n",
       "SKU\\nEE7582           1\n",
       "SKU\\n305381 061       1\n",
       "Name: brand, Length: 914, dtype: int64"
      ]
     },
     "execution_count": null,
     "metadata": {},
     "output_type": "execute_result"
    }
   ],
   "source": [
    "df_scraped.brand.value_counts()"
   ]
  },
  {
   "cell_type": "code",
   "execution_count": null,
   "metadata": {},
   "outputs": [],
   "source": [
    "from sklearn.model_selection import train_test_split\n",
    "\n",
    "df = df_scraped.copy()\n",
    "X = df.index\n",
    "y = df.db_name  #\n",
    "\n",
    "train_ratio = 0.70\n",
    "validation_ratio = 0.15\n",
    "\n",
    "# keep\n",
    "test_ratio = 0.15"
   ]
  },
  {
   "cell_type": "code",
   "execution_count": null,
   "metadata": {},
   "outputs": [],
   "source": [
    "# train is now 75% of the entire data set\n",
    "# the _junk suffix means that we drop that variable completely\n",
    "x_train, x_test, y_train, y_test = train_test_split(X, y, test_size=1 - train_ratio,stratify=y, random_state=666)\n",
    "\n",
    "# test is now 10% of the initial data set\n",
    "# validation is now 15% of the initial data set\n",
    "x_val, x_test, y_val, y_test = train_test_split(x_test, y_test, test_size=test_ratio/(test_ratio + validation_ratio),stratify=y_test, random_state=666) "
   ]
  },
  {
   "cell_type": "code",
   "execution_count": null,
   "metadata": {},
   "outputs": [],
   "source": [
    "# pack into the dataframe\n",
    "df.loc[:,'train'] = False\n",
    "df.loc[:,'test'] = False\n",
    "df.loc[:,'validate'] = False\n",
    "df.loc[:,'t_t_v'] = 'train'\n",
    "df.loc[x_train,'train'] = True\n",
    "df.loc[x_test,'test'] = True\n",
    "df.loc[x_val,'validate'] = True\n",
    "df.loc[x_test,'t_t_v'] = 'test'\n",
    "df.loc[x_val,'t_t_v'] = 'valid'"
   ]
  },
  {
   "cell_type": "code",
   "execution_count": null,
   "metadata": {},
   "outputs": [],
   "source": [
    "df.head()\n",
    "\n",
    "df_scraped = df"
   ]
  },
  {
   "cell_type": "code",
   "execution_count": null,
   "metadata": {},
   "outputs": [
    {
     "data": {
      "text/plain": [
       "((2337, 17), (33229, 17), (35566, 29))"
      ]
     },
     "execution_count": null,
     "metadata": {},
     "output_type": "execute_result"
    }
   ],
   "source": [
    "#df_test = pd.merge(df_zappos,df_scraped,how='left',on='path',suffixes=('_sm','_md'))\n",
    "\n",
    "df_test = pd.merge(df_zappos,df_scraped,how='outer',on=['path','train','test','validate','t_t_v'])\n",
    "df_scraped.shape\n",
    "df_scraped.columns,df_zappos.columns,df_test.columns\n",
    "\n",
    "df_scraped.shape,df_zappos.shape,df_test.shape\n",
    "#df_test[[\"train\",\"test\",\"validate\",\"t_t_v\"]].head()"
   ]
  },
  {
   "cell_type": "code",
   "execution_count": null,
   "metadata": {
    "tags": []
   },
   "outputs": [],
   "source": [
    "\n",
    "sv_path = os.path.join(DB_PATH, \"full_db.pkl\")\n",
    "df_test.to_pickle(sv_path)\n",
    "\n",
    "sv_path = os.path.join(\"data\", \"full_db.pkl\")\n",
    "df_test.to_pickle(sv_path)\n"
   ]
  },
  {
   "cell_type": "code",
   "execution_count": null,
   "metadata": {},
   "outputs": [
    {
     "data": {
      "text/plain": [
       "'/home/ergonyc/Projects/DATABASE/SnkrScrpr/data'"
      ]
     },
     "execution_count": null,
     "metadata": {},
     "output_type": "execute_result"
    }
   ],
   "source": [
    "DB_PATH"
   ]
  },
  {
   "cell_type": "code",
   "execution_count": null,
   "metadata": {},
   "outputs": [],
   "source": []
  },
  {
   "cell_type": "code",
   "execution_count": null,
   "metadata": {},
   "outputs": [],
   "source": []
  }
 ],
 "metadata": {
  "kernelspec": {
   "display_name": "Python 3",
   "language": "python",
   "name": "python3"
  }
 },
 "nbformat": 4,
 "nbformat_minor": 2
}
