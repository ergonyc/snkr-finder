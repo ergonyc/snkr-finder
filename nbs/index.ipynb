{
 "cells": [
  {
   "cell_type": "code",
   "execution_count": null,
   "metadata": {},
   "outputs": [],
   "source": [
    "#hide\n",
    "# from snkrfinder.core import * \n",
    "# from snkrfinder.data import *\n",
    "\n"
   ]
  },
  {
   "cell_type": "code",
   "execution_count": null,
   "metadata": {},
   "outputs": [],
   "source": [
    "#hide\n",
    "from nbdev.showdoc import *"
   ]
  },
  {
   "cell_type": "markdown",
   "metadata": {},
   "source": [
    "# snkr-finder\n",
    "\n",
    "> this repository / module are used to develop the fastai API version of Sneaker Finder:  a tool to help find sneakers similar to what you like!\n"
   ]
  },
  {
   "cell_type": "markdown",
   "metadata": {},
   "source": [
    "WARNING!!!  WORK IN PROGRESS.. PROCEED WITH EXTREME CAUTION \n",
    "\n",
    "- Andy 13Feb, 2021\n",
    "\n",
    "Also note that there are two versions of the repo... `snkr-finder` and `snkrfinder` which both create the snkrfinder module.\n",
    "\n",
    "Confusing, yes.  But mostly for testing and expository learning about import dependencies and nbdev automation tools."
   ]
  },
  {
   "cell_type": "markdown",
   "metadata": {},
   "source": [
    "## Install"
   ]
  },
  {
   "cell_type": "markdown",
   "metadata": {},
   "source": [
    "`pip install snkr-finder`\n",
    "\n",
    "which makes teh snkrfinder module...\n",
    "\n",
    "- snkrfinder.core -> snkrfinder (utils)\n",
    "\n",
    "- snkrfinder.data -> snkrfinder.data\n",
    "\n",
    "- snkrfinder.model -> snkrfinder.model (.core .cvae .transfer)\n",
    "\n",
    "- snkrfinder.widget -> snkrfinder.widget\n",
    "\n",
    "\n",
    "\n",
    "NOTE:  symbolic link in the nbs directory to enable the module loads in these notebooks.  i.e. `ln -s ../snkrfinder/ snkrfinder`"
   ]
  },
  {
   "cell_type": "markdown",
   "metadata": {},
   "source": [
    "## How to use"
   ]
  },
  {
   "cell_type": "markdown",
   "metadata": {},
   "source": [
    "There are several sets of tools:\n",
    "\n",
    "- data ingestion / setup\n",
    "- feature extraction\n",
    "- \"similarity\" finding\n",
    "- visualization\n",
    "- widget/GUI\n",
    "- transfer learning  (modeling)\n",
    "- CVAE models to learn a compact latent space representaiton of sneakers for use in recommenders or generative design tools (snkr-math)"
   ]
  },
  {
   "cell_type": "code",
   "execution_count": null,
   "metadata": {},
   "outputs": [],
   "source": [
    "from snkrfinder.core import *"
   ]
  },
  {
   "cell_type": "code",
   "execution_count": null,
   "metadata": {},
   "outputs": [],
   "source": [
    "from snkrfinder.data import *"
   ]
  },
  {
   "cell_type": "code",
   "execution_count": null,
   "metadata": {},
   "outputs": [],
   "source": [
    "from snkrfinder.model.core import *\n",
    "from snkrfinder.model.transfer import *\n",
    "from snkrfinder.model.cvae import *\n"
   ]
  },
  {
   "cell_type": "code",
   "execution_count": null,
   "metadata": {},
   "outputs": [],
   "source": [
    "from snkrfinder.widgets import *"
   ]
  },
  {
   "cell_type": "code",
   "execution_count": null,
   "metadata": {},
   "outputs": [],
   "source": [
    "# todo: fix /model/__init__.py to autoimport models modules...?\n",
    "# todo: fix /__init__.py to autoimport core module...?\n"
   ]
  },
  {
   "cell_type": "code",
   "execution_count": null,
   "metadata": {},
   "outputs": [],
   "source": []
  }
 ],
 "metadata": {
  "kernelspec": {
   "display_name": "Python 3",
   "language": "python",
   "name": "python3"
  }
 },
 "nbformat": 4,
 "nbformat_minor": 2
}
