{
 "cells": [
  {
   "cell_type": "code",
   "execution_count": null,
   "metadata": {},
   "outputs": [],
   "source": [
    "\n",
    "\n",
    "SQL: We define as power users those users who bought at least 10 products. Write a query that returns for each user on which day they became a power user. That is, for each user, on which day they bought the 10th item.\n",
    "\n",
    "\n",
    "The table below represents transactions. That is, each row means that the corresponding user has bought something on that date. \n",
    "\n",
    "\n",
    "Column Name\n",
    "Value\n",
    "Description\n",
    "user_id\n",
    "675\n",
    "this is id of the user\n",
    "date\n",
    "2014-12-31 16:16:12\n",
    "user 675 bought something on Dec 31, 2014 at 4:16:12 PM\n",
    "Transactions\n",
    "User_id\t\tdate\n",
    "675\t\t2014-12-31 16:16:12\n",
    "\n",
    ">>> \n",
    "\n"
   ]
  },
  {
   "cell_type": "markdown",
   "metadata": {},
   "source": [
    "``` mysql\n",
    "   \n",
    "SELECT\n",
    "    user_id,\n",
    "    date\n",
    "FROM \n",
    "    (SELECT\n",
    "       user_id,\n",
    "       date,\n",
    "       ROW_NUMBER() OVER ( PARTITION BY user_id ORDER BY date) AS order_order\n",
    "   FROM \n",
    "       transactions ) AS TMP_TBL\n",
    "WHERE\n",
    "    order_order = 10\n",
    "    \n",
    "```\n",
    "    \n",
    "    "
   ]
  },
  {
   "cell_type": "markdown",
   "metadata": {},
   "source": [
    "A regular number in mathematics is defined as one which evenly divides some power of 60. Equivalently, we can say that a regular number is one whose only prime divisors are 2, 3, and 5.\n",
    "\n",
    "These numbers have had many applications, from helping ancient Babylonians keep time to tuning instruments according to the diatonic scale.\n",
    "\n",
    "Given an integer N, write a program that returns, in order, the first N regular numbers\n",
    "\n"
   ]
  },
  {
   "cell_type": "code",
   "execution_count": null,
   "metadata": {},
   "outputs": [],
   "source": [
    "\n",
    "\n",
    "\n",
    "# retular number\n",
    "def is_reg():\n",
    "    \n",
    "\n",
    "\n",
    "while num_reg < N:\n",
    "    \n"
   ]
  },
  {
   "cell_type": "markdown",
   "metadata": {},
   "source": [
    "\n",
    "Given an array of integers, determine whether it contains a Pythagorean triplet. Recall that a Pythogorean triplet (a, b, c) is defined by the equation a2+ b2= c2."
   ]
  },
  {
   "cell_type": "code",
   "execution_count": null,
   "metadata": {},
   "outputs": [],
   "source": [
    "def is_Pyth_trip(three_arr):\n",
    "    # a. assume array is [a,b,c]\n",
    "    a,b,c = tuple(sorted(three_arr))\n",
    "    return a*a+b*b == c*c\n",
    "\n",
    "\n",
    "def contain_Pyth_trip(arr):\n",
    "    sarr = list(arr*arr).sort()\n",
    "    while True:\n",
    "        hypotenuse = sarr.pop()\n",
    "        \n",
    "\n",
    "\n",
    "\n",
    "\n"
   ]
  }
 ],
 "metadata": {
  "kernelspec": {
   "display_name": "Python 3",
   "language": "python",
   "name": "python3"
  }
 },
 "nbformat": 4,
 "nbformat_minor": 4
}
